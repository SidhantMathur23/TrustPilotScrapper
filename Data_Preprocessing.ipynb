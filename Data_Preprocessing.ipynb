{
 "cells": [
  {
   "cell_type": "code",
   "execution_count": 1,
   "id": "cfee8f38-32cc-4c5b-9f68-0bca74694de7",
   "metadata": {},
   "outputs": [],
   "source": [
    "import pandas as pd\n",
    "import numpy as np\n",
    "import pymongo \n",
    "from pymongo import MongoClient\n",
    "import warnings\n",
    "warnings.filterwarnings('ignore')\n",
    "\n",
    "import emoji\n",
    "import contractions\n",
    "from langdetect import detect\n",
    "from deep_translator import GoogleTranslator\n",
    "import nltk\n",
    "from nltk.tokenize import sent_tokenize, word_tokenize\n",
    "from autocorrect import Speller"
   ]
  },
  {
   "cell_type": "code",
   "execution_count": 2,
   "id": "6393ac60-a6f2-4dc6-bc9f-4f67ea86dc9f",
   "metadata": {},
   "outputs": [],
   "source": [
    "def read_data(mongodb_client, database_name, collection_name):\n",
    "    \"\"\" Reading scrapped reviews from MongoDB \"\"\"\n",
    "    # Creating list to store customer reviews\n",
    "    customer_reviews = []\n",
    "\n",
    "    # Initialize database \n",
    "    db = mongodb_client[database_name]\n",
    "    collection = db[collection_name]\n",
    "\n",
    "    # Reading collection\n",
    "    for document in collection.find():\n",
    "        if len(document) > 5: # Indicating that all the required keys are present in the dictionary\n",
    "            customer_reviews.append(document)\n",
    "        continue\n",
    "\n",
    "    return pd.DataFrame(customer_reviews)"
   ]
  },
  {
   "cell_type": "code",
   "execution_count": 3,
   "id": "39ef6695-32fe-4fdb-b66a-e1c3b72efbe5",
   "metadata": {},
   "outputs": [],
   "source": [
    "# Reading documents from MongoDB\n",
    "total_df = read_data(\n",
    "    mongodb_client = MongoClient(\"mongodb://localhost:27017/\"), \n",
    "    database_name = 'TrustPilotDatabase', collection_name = 'ReviewCollection'\n",
    ")\n",
    "\n",
    "# Filtering reviews on the basis of attributes which were found \n",
    "reviews_df = total_df[\n",
    "    (total_df['Username']!='NOT FOUND') & (total_df['Location']!='NOT FOUND') & \n",
    "    (total_df['Review']!='NOT FOUND') & (total_df['Rating']!='NOT FOUND') &\n",
    "    (total_df['Title']!='NOT FOUND')\n",
    "].reset_index(drop=True)[['Review','Rating']]"
   ]
  },
  {
   "cell_type": "code",
   "execution_count": 4,
   "id": "3e934307-3cec-4b93-bca5-2e939b447e17",
   "metadata": {},
   "outputs": [],
   "source": [
    "# Function to write dataframe to mongodb \n",
    "def write_dataframe(df, databaseName, collectionName):\n",
    "    \"\"\" Function for storing dataframe into MongoDB Collection \"\"\"\n",
    "    \n",
    "    # Initializing database and collection\n",
    "    mongo_client = MongoClient(\"mongodb://localhost:27017/\")\n",
    "    mydb = mongo_client[databaseName]\n",
    "    mycol = mydb[collectionName]\n",
    "    \n",
    "    # Creating a list to store records\n",
    "    list_records = []\n",
    "\n",
    "    # Creating record dictionary\n",
    "    for i in range(len(df)):\n",
    "        record_dict = {}\n",
    "        for column in df.columns:\n",
    "            record_dict[column] = df.iloc[i][column]\n",
    "        list_records.append(record_dict)\n",
    "    x = mycol.insert_many(list_records)\n",
    "    return 'Completed'"
   ]
  },
  {
   "cell_type": "markdown",
   "id": "9851e71d-ef79-42b0-81be-c496663e9669",
   "metadata": {},
   "source": [
    "# Data Pre-Processing"
   ]
  },
  {
   "cell_type": "markdown",
   "id": "623e6899-6519-4934-8b6a-4c6cc4d45522",
   "metadata": {},
   "source": [
    "##### Replacing ratings from 1-5 to Positive & Negative"
   ]
  },
  {
   "cell_type": "code",
   "execution_count": 5,
   "id": "c558a8a5-bc78-47d3-b993-b260abda1cce",
   "metadata": {},
   "outputs": [],
   "source": [
    "def split_rating_string(input_string):\n",
    "    \"\"\" Function to split input string into integer ratings \"\"\"\n",
    "    if int(input_string.split(' ')[1]) in [1,2,3]:\n",
    "        return 'Negative'\n",
    "    return 'Positive'\n",
    "\n",
    "reviews_df['NewRating'] = reviews_df['Rating'].map(lambda x: split_rating_string(x), na_action='ignore')"
   ]
  },
  {
   "cell_type": "markdown",
   "id": "9c461725-a69f-44ba-b98f-9499f0bdc343",
   "metadata": {},
   "source": [
    "##### Language Detection & Translation"
   ]
  },
  {
   "cell_type": "code",
   "execution_count": 7,
   "id": "ba6f0b91-23ba-482a-a893-433ecfd92f25",
   "metadata": {},
   "outputs": [
    {
     "data": {
      "text/plain": [
       "'Completed'"
      ]
     },
     "execution_count": 7,
     "metadata": {},
     "output_type": "execute_result"
    }
   ],
   "source": [
    "# Using langdetect to detect language of input review\n",
    "def detect_language(text):\n",
    "    try:\n",
    "        return detect(text)\n",
    "    except:\n",
    "        return 'CheckEN'\n",
    "\n",
    "review_list = reviews_df['Review'].to_list()\n",
    "reviews_df['Language'] = list(map(detect_language, review_list))\n",
    "write_dataframe(reviews_df, databaseName = \"TrustPilotDatabase\", collectionName = \"LangDetectCollection\")"
   ]
  },
  {
   "cell_type": "code",
   "execution_count": 8,
   "id": "7bed38ea-5698-43f0-a747-4dfa3f6573cc",
   "metadata": {},
   "outputs": [],
   "source": [
    "# Isolating english language reviews\n",
    "english_df = reviews_df[reviews_df['Language'] == \"en\"].reset_index(drop=True)\n",
    "\n",
    "# CheckEN language code will be ignored & remaining language codes will be translated\n",
    "non_english_df = reviews_df[(reviews_df['Language'] != \"CheckEN\") & (reviews_df['Language'] != \"en\")].reset_index(drop=True)"
   ]
  },
  {
   "cell_type": "code",
   "execution_count": 9,
   "id": "7c576288-d769-47eb-b6c8-48d9420f8d46",
   "metadata": {},
   "outputs": [],
   "source": [
    "# Using deep_translator to perform language translation\n",
    "def language_translation(text,translator_instance):\n",
    "    \"\"\" Translating Reviews from different languages to English using Deep Translator \"\"\"\n",
    "    translated_review = ''\n",
    "    sentences = nltk.sent_tokenize(text)\n",
    "    for sentence in sentences:\n",
    "        try:\n",
    "            translated_sentence = translator_instance.translate(sentence)\n",
    "            translated_review += translated_sentence\n",
    "        except:\n",
    "            translated_review += sentence\n",
    "        translated_review += \" \"\n",
    "    return translated_review.strip()"
   ]
  },
  {
   "cell_type": "code",
   "execution_count": 10,
   "id": "40a9dbfa-eee5-4344-9006-a636eddb4d06",
   "metadata": {},
   "outputs": [
    {
     "data": {
      "text/plain": [
       "'Completed'"
      ]
     },
     "execution_count": 10,
     "metadata": {},
     "output_type": "execute_result"
    }
   ],
   "source": [
    "# Instanciating Google Translator\n",
    "translator_instance = GoogleTranslator(source='auto', target='en')\n",
    "non_english_df['Translated_Reviews'] = non_english_df['Review'].apply(lambda x: language_translation(x,translator_instance))\n",
    "\n",
    "# Writing results to MongoDB\n",
    "write_dataframe(non_english_df, databaseName = \"TrustPilotDatabase\", collectionName = \"NonEnglishTranslatedCollection\")"
   ]
  },
  {
   "cell_type": "code",
   "execution_count": 12,
   "id": "6c7e3f3d-81e3-4574-a813-fb8979242388",
   "metadata": {},
   "outputs": [
    {
     "data": {
      "text/plain": [
       "'Completed'"
      ]
     },
     "execution_count": 12,
     "metadata": {},
     "output_type": "execute_result"
    }
   ],
   "source": [
    "# Concatenating results under 1 dataframe\n",
    "translated_reviews = pd.concat(\n",
    "    [\n",
    "        english_df, \n",
    "        non_english_df[['Translated_Reviews','Rating','Language']].rename(\n",
    "            columns = {'Translated_Reviews':'Review'}\n",
    "        ) \n",
    "    ],axis=0).reset_index(drop=True)\n",
    "\n",
    "# Writing results to MongoDB\n",
    "write_dataframe(translated_reviews, databaseName = \"TrustPilotDatabase\", collectionName = \"TranslatedCollection\")"
   ]
  },
  {
   "cell_type": "markdown",
   "id": "2297bce7-4670-4eea-b173-18cb84d751d6",
   "metadata": {},
   "source": [
    "##### Handling Emoticons"
   ]
  },
  {
   "cell_type": "code",
   "execution_count": 13,
   "id": "00ae505a-7cb1-48e1-9fe5-f1836af8ad7f",
   "metadata": {},
   "outputs": [
    {
     "data": {
      "text/plain": [
       "'Completed'"
      ]
     },
     "execution_count": 13,
     "metadata": {},
     "output_type": "execute_result"
    }
   ],
   "source": [
    "def encoding_emoticons(input_text):\n",
    "    \"\"\" Replaces emoticons with word tokens, to capture essence of emoji \"\"\"\n",
    "    return emoji.demojize(input_text)\n",
    "\n",
    "# Applying function\n",
    "translated_reviews['EmojiEncoded'] = list(map(encoding_emoticons , translated_reviews['Review']))\n",
    "\n",
    "# Writing results to MongoDB\n",
    "write_dataframe(translated_reviews, databaseName = \"TrustPilotDatabase\", collectionName = \"EmoticonEncodedCollection\")"
   ]
  },
  {
   "cell_type": "markdown",
   "id": "23342cdd-6fb7-4a29-8e8b-71c452501584",
   "metadata": {},
   "source": [
    "##### Expanding contractions"
   ]
  },
  {
   "cell_type": "code",
   "execution_count": 15,
   "id": "79e66376-783b-41e0-a0eb-86764dd348ce",
   "metadata": {},
   "outputs": [],
   "source": [
    "def fix_contractions(input_text):\n",
    "    new_text = \"\"\n",
    "    for sentence in sent_tokenize(input_text):\n",
    "        new_text += contractions.fix(sentence)\n",
    "        new_text += ' '\n",
    "    return new_text.strip()\n",
    "\n",
    "# Fixing contractions \n",
    "translated_reviews['FixedContraction'] = list(map(encoding_emoticons , translated_reviews['EmojiEncoded']))"
   ]
  },
  {
   "cell_type": "markdown",
   "id": "fb27a4f5-518f-446e-b786-04ecda48eb11",
   "metadata": {},
   "source": [
    "##### Spelling Correction"
   ]
  },
  {
   "cell_type": "code",
   "execution_count": 16,
   "id": "07246aa3-28b1-4865-a070-df7d9ee3ed15",
   "metadata": {},
   "outputs": [
    {
     "data": {
      "text/plain": [
       "'Completed'"
      ]
     },
     "execution_count": 16,
     "metadata": {},
     "output_type": "execute_result"
    }
   ],
   "source": [
    "def autospell(text):\n",
    "    spells = [spell(w) for w in (word_tokenize(text))]\n",
    "    return \" \".join(spells) \n",
    "\n",
    "# Fixing spelling errors in input reviews\n",
    "spell = Speller(lang='en')\n",
    "translated_reviews['SpellingCorrected'] = list(map(encoding_emoticons , translated_reviews['FixedContraction']))\n",
    "write_dataframe(translated_reviews, databaseName = \"TrustPilotDatabase\", collectionName = \"SpellingCorrectedCollection\")"
   ]
  },
  {
   "cell_type": "markdown",
   "id": "58550940-61ca-40b8-9597-44feab982322",
   "metadata": {},
   "source": [
    "##### Storing processed reviews"
   ]
  },
  {
   "cell_type": "code",
   "execution_count": 27,
   "id": "6c92d1a8-7853-4cb9-bca6-b217baddfec2",
   "metadata": {},
   "outputs": [
    {
     "data": {
      "text/plain": [
       "'Completed'"
      ]
     },
     "execution_count": 27,
     "metadata": {},
     "output_type": "execute_result"
    }
   ],
   "source": [
    "# Filling up NAN values in Ratings\n",
    "translated_reviews['NewRating'] = translated_reviews['Rating'].map(lambda x: split_rating_string(x), na_action='ignore')\n",
    "write_dataframe(translated_reviews, databaseName = \"TrustPilotDatabase\", collectionName = \"ProcessedReviewCollection\")"
   ]
  },
  {
   "cell_type": "code",
   "execution_count": null,
   "id": "05215643-deff-4fc8-a0d6-250073c63f83",
   "metadata": {},
   "outputs": [],
   "source": []
  }
 ],
 "metadata": {
  "kernelspec": {
   "display_name": "TestTrustPilot",
   "language": "python",
   "name": "testtrustpilot"
  },
  "language_info": {
   "codemirror_mode": {
    "name": "ipython",
    "version": 3
   },
   "file_extension": ".py",
   "mimetype": "text/x-python",
   "name": "python",
   "nbconvert_exporter": "python",
   "pygments_lexer": "ipython3",
   "version": "3.12.3"
  }
 },
 "nbformat": 4,
 "nbformat_minor": 5
}
